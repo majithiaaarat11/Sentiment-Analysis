{
 "cells": [
  {
   "cell_type": "markdown",
   "metadata": {},
   "source": [
    "# Naive Bayes for Sentiment Analysis\n",
    "\n",
    "## Run the code in the first cell and type a positive or negative review in the next one"
   ]
  },
  {
   "cell_type": "code",
   "execution_count": 4,
   "metadata": {},
   "outputs": [
    {
     "name": "stdout",
     "output_type": "stream",
     "text": [
      "[nltk_data] Downloading package stopwords to\n",
      "[nltk_data]     C:\\Users\\majit\\AppData\\Roaming\\nltk_data...\n",
      "[nltk_data]   Package stopwords is already up-to-date!\n",
      "(6918, 2011)\n",
      "(6918,)\n",
      "Enter a review: It was very boring!!\n",
      "Negative :(\n"
     ]
    }
   ],
   "source": [
    "import pandas as pd\n",
    "import nltk\n",
    "nltk.download('stopwords')\n",
    "from nltk.corpus import stopwords\n",
    "from sklearn.feature_extraction.text import TfidfVectorizer\n",
    "from sklearn.cross_validation import train_test_split\n",
    "from sklearn import naive_bayes\n",
    "from sklearn.metrics import roc_auc_score\n",
    "from sklearn.metrics import confusion_matrix\n",
    "import numpy as np\n",
    "\n",
    "df = pd.read_csv(\"https://storage.googleapis.com/kaggle-competitions-data/kaggle/2558/training.txt?GoogleAccessId=web-data@kaggle-161607.iam.gserviceaccount.com&Expires=1535124461&Signature=pEH8PZ7kkkA6AFT%2BmOXq2Us5FgdVtp9Pp5%2BbRAvy9aLLWAAzF9TP1aKZIOmh6pUgPvqhwOMLnvtoCK1SjQ5Tz%2B9t2Qk6LTZxtLgLMFs9f8KZbkrPb%2FtUGydTZJ9iGR95n87vKO4VbmWTZuc1NqGip9Pq1Yy9xb2joP1i10VdF6zJg92oMX1ElW9jdnP8CEHem5b1cWA92%2FN4yCDGvqfUZ%2Fz9nTv7wrsbPgNZyGemVEaz8GsG4DwgxWE8RgZztrikTSMSzeCqi5kCyU6BxccyvId1XqxqSXormC7C%2FJSAQFWHC%2FSa7bysmNs4pPFu4B11ykFB1bnfE%2BFmnYyq25I4qA%3D%3D\",sep=\"\\t\",names=['liked','review'])\n",
    "\n",
    "stopset = set(stopwords.words('english'))\n",
    "vectorizer = TfidfVectorizer(use_idf = True, lowercase = True, strip_accents = 'ascii', stop_words = stopset)\n",
    "\n",
    "y=df.liked\n",
    "\n",
    "X = vectorizer.fit_transform(df.review)\n",
    "\n",
    "print(X.shape)\n",
    "print(y.shape)\n",
    "\n",
    "X_train,X_test,y_train,y_test=train_test_split(X,y,random_state=42)\n",
    "\n",
    "clf=naive_bayes.MultinomialNB()\n",
    "clf.fit(X_train,y_train)\n",
    "\n",
    "roc_auc_score(y_test,clf.predict_proba(X_test)[:,1])\n",
    "#confusion_matrix(y_test,clf.predict(X_test)[:,1])\n",
    "\n",
    "review = input(\"Enter a review: \")\n",
    "\n",
    "review_array = np.array([review])\n",
    "review_vector = vectorizer.transform(review_array)\n",
    "if clf.predict(review_vector) == 1:\n",
    "    print(\"Positive :)\")\n",
    "else:\n",
    "    print(\"Negative :(\")"
   ]
  },
  {
   "cell_type": "code",
   "execution_count": null,
   "metadata": {},
   "outputs": [],
   "source": []
  }
 ],
 "metadata": {
  "kernelspec": {
   "display_name": "Python 3",
   "language": "python",
   "name": "python3"
  }
 },
 "nbformat": 4,
 "nbformat_minor": 2
}
